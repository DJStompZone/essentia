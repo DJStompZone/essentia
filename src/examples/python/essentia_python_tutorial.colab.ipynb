{
  "cells": [
    {
      "cell_type": "markdown",
      "metadata": {
        "id": "MHoFXGC-QCSy"
      },
      "source": [
        "# Essentia Python tutorial\n",
        "\n",
        "This is a hands-on tutorial for complete newcomers to Essentia. Essentia combines the power of computation speed of the main C++ code with the Python environment, making fast prototyping and scientific research very easy.\n",
        "\n",
        "To follow this tutorial (and [various Python examples we provide](https://essentia.upf.edu/python_examples.html)) interactively, we provide [Jupyter](http://jupyter.org/) Python notebooks. They are located in the `src/examples/python` folder [in the source code](https://github.com/MTG/essentia/tree/master/src/examples/python). The notebook for this tutorial is `essentia_python_tutorial.ipynb` ([link](https://github.com/MTG/essentia/blob/master/src/examples/python/essentia_python_tutorial.ipynb)). If you are not familiar with Python notebooks, read how to use them [here](http://jupyter.readthedocs.io).\n",
        "\n",
        "\n",
        "You should have the [NumPy](http://numpy.scipy.org/) package installed for computations with vectors and matrices in Python and [Matplotlib](http://matplotlib.sourceforge.net/) for plotting. Other recommended packages for scientific computing not used in this tutorial but often used with Essentia are [SciPy](http://www.scipy.org/), [scikit-learn](http://scikit-learn.org/), [pandas](https://pandas.pydata.org/), and [seaborn](https://stanford.edu/~mwaskom/software/seaborn/) for visualization.\n",
        "\n",
        "\n",
        "The big strength of Essentia is its extensive collection of optimized and tested algorithms for audio processing and analysis, all conveniently available within the same library. You can parametrize and re-use these algorithms for specific use-cases and your custom analysis pipelines. For more details on the algorithms, see the [algorithms overview](https://essentia.upf.edu/algorithms_overview.html) and the complete [algorithms reference](https://essentia.upf.edu/algorithms_reference.html)."
      ]
    },
    {
      "cell_type": "markdown",
      "metadata": {
        "id": "1si87vbfQCTJ"
      },
      "source": [
        "## Using Essentia in standard mode"
      ]
    },
    {
      "cell_type": "markdown",
      "metadata": {
        "id": "Op1mhtqQQCTL"
      },
      "source": [
        "There are two modes of using Essentia, *standard* and *streaming*, and in this section, we will focus on the standard mode. See next section for the streaming mode.\n",
        "\n",
        "We will have a look at some basic functionality:\n",
        "\n",
        " - how to load an audio\n",
        " - how to perform some numerical operations such as FFT\n",
        " - how to plot results\n",
        " - how to output results to a file\n",
        " \n",
        "### Exploring the Python module"
      ]
    },
    {
      "cell_type": "markdown",
      "metadata": {
        "id": "a1cvo0_wQCTN"
      },
      "source": [
        "Let’s investigate a bit the Essentia package."
      ]
    },
    {
      "cell_type": "code",
      "execution_count": null,
      "metadata": {
        "id": "5KguxGD8QCTP"
      },
      "outputs": [],
      "source": [
        "import os\n",
        "!pip install essentia\n",
        "try:\n",
        "  import essentia\n",
        "except Exception as _e:\n",
        "  os.system('git clone https://github.com/DJStompZone/essentia --recurse-submodules')\n",
        "  os.chdir('essentia')\n",
        "  os.system(\"pip install setup.py\")\n",
        "import essentia\n",
        "\n",
        "if \"essentia_python_tutorial.ipynb\" not in os.listdir():\n",
        "  if 'essentia' in os.listdir():\n",
        "    os.chdir('essentia')\n",
        "  if os.path.exists(\"src/examples/python/essentia_python_tutorial.ipynb\"):\n",
        "    os.chdir(\"src/examples/python\")\n",
        "  else:\n",
        "    raise Exception(\"ValueError: Unable to find tutorial path (src/examples/python/essentia_python_tutorial.ipynb)\")\n",
        "\n",
        "print(dir(essentia))\n",
        "# there are two operating modes in essentia which (mostly) have the same algorithms\n",
        "# they are accessible via two submodules:\n",
        "import essentia.standard\n",
        "import essentia.streaming\n",
        "\n",
        "# let's have a look at what is in there\n",
        "print(dir(essentia.standard))\n",
        "\n",
        "# you can also do it by using autocompletion in Jupyter/IPython, typing \"essentia.standard.\" and pressing Tab\n",
        "    "
      ]
    },
    {
      "cell_type": "markdown",
      "metadata": {
        "id": "rYXu3ouWQCTY"
      },
      "source": [
        "This list contains all Essentia algorithms available in standard mode. You can have an inline help for the algorithms you are interested in using `help` command (you can also see it by typing `MFCC` in Jupyter/IPython). You can also use our online [algorithm reference](http://essentia.upf.edu/documentation/algorithms_reference.html)."
      ]
    },
    {
      "cell_type": "code",
      "execution_count": null,
      "metadata": {
        "id": "kX5uraZUQCTZ"
      },
      "outputs": [],
      "source": [
        "help(essentia.standard.MFCC)"
      ]
    },
    {
      "cell_type": "markdown",
      "metadata": {
        "id": "jLSeuBKFQCTb"
      },
      "source": [
        "### Instantiating our first algorithm, loading some audio\n",
        "\n",
        "Before you can use algorithms in Essentia, you first need to instantiate (create) them. When doing so, you can give them parameters which they may need to work properly, such as the filename of the audio file in the case of an audio loader.\n",
        "\n",
        "Once you have instantiated an algorithm, nothing has happened yet, but your algorithm is ready to be used and works like a function, that is, *you have to call it to make stuff happen* (technically, it is a [function object]( <http://en.wikipedia.org/wiki/Function_object>)).\n",
        "\n",
        "Essentia has a selection of audio loaders:\n",
        "\n",
        "- [AudioLoader](http://essentia.upf.edu/documentation/reference/std_AudioLoader.html): the most generic one, returns the audio samples, sampling rate and number of channels, and some other related information\n",
        "- [MonoLoader](http://essentia.upf.edu/documentation/reference/std_MonoLoader.html): returns audio, down-mixed and resampled to a given sampling rate\n",
        "- [EasyLoader](http://essentia.upf.edu/documentation/reference/std_EasyLoader.html): a MonoLoader which can optionally trim start/end slices and rescale according to a ReplayGain value\n",
        "- [EqloudLoader](http://essentia.upf.edu/documentation/reference/std_EqloudLoader.html): an EasyLoader that applies an equal-loudness filtering to the audio\n"
      ]
    },
    {
      "cell_type": "code",
      "execution_count": null,
      "metadata": {
        "id": "-NMC-8E1QCTf"
      },
      "outputs": [],
      "source": [
        "# we start by instantiating the audio loader:\n",
        "loader = essentia.standard.MonoLoader(filename='../../../test/audio/recorded/dubstep.wav')\n",
        "\n",
        "# and then we actually perform the loading:\n",
        "audio = loader()"
      ]
    },
    {
      "cell_type": "code",
      "execution_count": null,
      "metadata": {
        "id": "O-hYuqWtQCTh"
      },
      "outputs": [],
      "source": [
        "# This is what the audio we want to process sounds like\n",
        "import IPython\n",
        "IPython.display.Audio('../../../test/audio/recorded/dubstep.wav')"
      ]
    },
    {
      "cell_type": "markdown",
      "metadata": {
        "id": "ohfDx3loQCTj"
      },
      "source": [
        "By default, the MonoLoader will output audio with 44100Hz sample rate downmixed to mono. To make sure that this actually worked, let's plot a 1-second slice of audio, from t = 1 sec to t = 2 sec:"
      ]
    },
    {
      "cell_type": "code",
      "execution_count": null,
      "metadata": {
        "id": "Ak2Du4VOQCTk"
      },
      "outputs": [],
      "source": [
        "# pylab contains the plot() function, as well as figure, etc... (same names as Matlab)\n",
        "from pylab import plot, show, figure, imshow\n",
        "%matplotlib inline\n",
        "import matplotlib.pyplot as plt\n",
        "plt.rcParams['figure.figsize'] = (15, 6) # set plot sizes to something larger than default\n",
        "\n",
        "plot(audio[1*44100:2*44100])\n",
        "plt.title(\"This is how the 2nd second of this audio looks:\")\n",
        "show()"
      ]
    },
    {
      "cell_type": "markdown",
      "metadata": {
        "id": "LQRR16ptQCTm"
      },
      "source": [
        "### Computing spectrum, mel bands energies, and MFCCs\n",
        "So let's say that we want to compute spectral energy in mel bands and the associated [MFCCs](http://en.wikipedia.org/wiki/Mel-frequency_cepstral_coefficient) for the frames in our audio.\n",
        "\n",
        "We will need the following algorithms: [Windowing](https://essentia.upf.edu/reference/std_Windowing.html), [Spectrum](https://essentia.upf.edu/reference/std_Spectrum.html), [MFCC](https://essentia.upf.edu/reference/std_MFCC.html). For windowing, we'll specify to use [Hann](https://en.wikipedia.org/wiki/Hann_function) window."
      ]
    },
    {
      "cell_type": "code",
      "execution_count": null,
      "metadata": {
        "id": "LI8xkLlZQCTn"
      },
      "outputs": [],
      "source": [
        "from essentia.standard import *\n",
        "w = Windowing(type = 'hann')\n",
        "spectrum = Spectrum()  # FFT() would return the complex FFT, here we just want the magnitude spectrum\n",
        "mfcc = MFCC()"
      ]
    },
    {
      "cell_type": "markdown",
      "metadata": {
        "id": "ZHLw_lEfQCTo"
      },
      "source": [
        "Once algorithms have been instantiated, they work like normal functions. Note that the MFCC algorithm returns two values: the band energies and the coefficients. Let's compute and plot the spectrum, mel band energies, and MFCCs for a frame of audio:"
      ]
    },
    {
      "cell_type": "code",
      "execution_count": null,
      "metadata": {
        "id": "Ss0cTyY0QCTp"
      },
      "outputs": [],
      "source": [
        "frame = audio[6*44100 : 6*44100 + 1024]\n",
        "spec = spectrum(w(frame))\n",
        "mfcc_bands, mfcc_coeffs = mfcc(spec)\n",
        "\n",
        "plot(spec)\n",
        "plt.title(\"The spectrum of a frame:\")\n",
        "show()\n",
        "\n",
        "plot(mfcc_bands)\n",
        "plt.title(\"Mel band spectral energies of a frame:\")\n",
        "show()\n",
        "\n",
        "plot(mfcc_coeffs)\n",
        "plt.title(\"First 13 MFCCs of a frame:\")\n",
        "show()"
      ]
    },
    {
      "cell_type": "markdown",
      "metadata": {
        "id": "_xxs2ECTQCTr"
      },
      "source": [
        "In the case of mel band energies, sometimes you may want to apply log normalization, which can be done using [UnaryOperator](http://essentia.upf.edu/documentation/reference/std_UnaryOperator.html). Using this algorithm we can do different types of normalization on vectors."
      ]
    },
    {
      "cell_type": "code",
      "execution_count": null,
      "metadata": {
        "id": "-qr73hciQCTs"
      },
      "outputs": [],
      "source": [
        "logNorm = UnaryOperator(type='log')\n",
        "plot(logNorm(mfcc_bands))\n",
        "plt.title(\"Log-normalized mel band spectral energies of a frame:\")\n",
        "show()"
      ]
    },
    {
      "cell_type": "markdown",
      "metadata": {
        "id": "5yMv0ugQQCTt"
      },
      "source": [
        "### Computations on frames\n",
        "Now let's compute the mel band energies and MFCCs in all frames."
      ]
    },
    {
      "cell_type": "markdown",
      "metadata": {
        "id": "juHR-bpLQCTu"
      },
      "source": [
        "A typical Matlab-like way we would do it is by slicing the frames manually (the first frame starts at the moment 0, that is, with the first audio sample):"
      ]
    },
    {
      "cell_type": "code",
      "execution_count": null,
      "metadata": {
        "id": "sZfEuDwVQCTv"
      },
      "outputs": [],
      "source": [
        "mfccs = []\n",
        "melbands = []\n",
        "frameSize = 1024\n",
        "hopSize = 512\n",
        "\n",
        "for fstart in range(0, len(audio)-frameSize, hopSize):\n",
        "    frame = audio[fstart:fstart+frameSize]\n",
        "    mfcc_bands, mfcc_coeffs = mfcc(spectrum(w(frame)))\n",
        "    mfccs.append(mfcc_coeffs)\n",
        "    melbands.append(mfcc_bands)"
      ]
    },
    {
      "cell_type": "markdown",
      "metadata": {
        "id": "NilRIuf4QCTw"
      },
      "source": [
        "This is OK, but there is a much nicer way of computing frames in Essentia by using *FrameGenerator*, the [FrameCutter](http://essentia.upf.edu/documentation/reference/std_FrameCutter.html) algorithm wrapped into a Python generator:"
      ]
    },
    {
      "cell_type": "code",
      "execution_count": null,
      "metadata": {
        "scrolled": false,
        "id": "K7269mefQCTw"
      },
      "outputs": [],
      "source": [
        "mfccs = []\n",
        "melbands = []\n",
        "melbands_log = []\n",
        "\n",
        "for frame in FrameGenerator(audio, frameSize=1024, hopSize=512, startFromZero=True):\n",
        "    mfcc_bands, mfcc_coeffs = mfcc(spectrum(w(frame)))\n",
        "    mfccs.append(mfcc_coeffs)\n",
        "    melbands.append(mfcc_bands)\n",
        "    melbands_log.append(logNorm(mfcc_bands))\n",
        "\n",
        "# transpose to have it in a better shape\n",
        "# we need to convert the list to an essentia.array first (== numpy.array of floats)\n",
        "mfccs = essentia.array(mfccs).T\n",
        "melbands = essentia.array(melbands).T\n",
        "melbands_log = essentia.array(melbands_log).T\n",
        "\n",
        "# and plot\n",
        "imshow(melbands[:,:], aspect = 'auto', origin='lower', interpolation='none')\n",
        "plt.title(\"Mel band spectral energies in frames\")\n",
        "show()\n",
        "\n",
        "imshow(melbands_log[:,:], aspect = 'auto', origin='lower', interpolation='none')\n",
        "plt.title(\"Log-normalized mel band spectral energies in frames\")\n",
        "show()\n",
        "\n",
        "imshow(mfccs[1:,:], aspect='auto', origin='lower', interpolation='none')\n",
        "plt.title(\"MFCCs in frames\")\n",
        "show()"
      ]
    },
    {
      "cell_type": "markdown",
      "metadata": {
        "id": "3aDoUBg0QCTy"
      },
      "source": [
        "You can configure frame and hop size of the frame generator, and whether to start the first frame or to center it at zero position in time. For the complete list of available parameters see the documentation for the [FrameCutter](http://essentia.upf.edu/documentation/reference/std_FrameCutter.html).\n",
        "\n",
        "Note, that when plotting MFCCs, we ignored the first coefficient to disregard the power of the signal and only plot its spectral shape.\n"
      ]
    },
    {
      "cell_type": "markdown",
      "metadata": {
        "id": "2-oOT61eQCT0"
      },
      "source": [
        "### Storing results to Pool\n",
        "A **Pool** is a container similar to a C++ map or Python dict which can contain any type of values (easy in Python, not as much in C++...). Values are stored in there using a name which represents the full path to these values with dot (`.`) characters used as separators. You can think of it as a directory tree, or as namespace(s) plus a local name.\n",
        "\n",
        "Examples of valid names are: ``\"bpm\"``, ``\"lowlevel.mfcc\"``, ``\"highlevel.genre.rock.probability\"``, etc...\n",
        "\n",
        "Let's redo the previous computations using a pool. The pool has the nice advantage that the data you get out of it is already in an ``essentia.array`` format (which is equal to numpy.array of floats), so you can call transpose (``.T``) directly on it."
      ]
    },
    {
      "cell_type": "code",
      "execution_count": null,
      "metadata": {
        "id": "NpBSY129QCT1"
      },
      "outputs": [],
      "source": [
        "pool = essentia.Pool()\n",
        "\n",
        "for frame in FrameGenerator(audio, frameSize = 1024, hopSize = 512, startFromZero=True):\n",
        "    mfcc_bands, mfcc_coeffs = mfcc(spectrum(w(frame)))\n",
        "    pool.add('lowlevel.mfcc', mfcc_coeffs)\n",
        "    pool.add('lowlevel.mfcc_bands', mfcc_bands)\n",
        "    pool.add('lowlevel.mfcc_bands_log', logNorm(mfcc_bands))\n",
        "\n",
        "imshow(pool['lowlevel.mfcc_bands'].T, aspect = 'auto', origin='lower', interpolation='none')\n",
        "plt.title(\"Mel band spectral energies in frames\")\n",
        "show()\n",
        "\n",
        "imshow(pool['lowlevel.mfcc_bands_log'].T, aspect = 'auto', origin='lower', interpolation='none')\n",
        "plt.title(\"Log-normalized mel band spectral energies in frames\")\n",
        "show()\n",
        "\n",
        "imshow(pool['lowlevel.mfcc'].T[1:,:], aspect='auto', origin='lower', interpolation='none')\n",
        "plt.title(\"MFCCs in frames\")\n",
        "show()"
      ]
    },
    {
      "cell_type": "markdown",
      "metadata": {
        "id": "VDT83mUWQCT3"
      },
      "source": [
        "### Aggregation and file output\n",
        "As we are using Python, we could use its facilities for writing data to a file, but for the sake of this tutorial let's do it using the [YamlOutput](http://essentia.upf.edu/documentation/reference/std_YamlOutput.html) algorithm, which writes a pool in a file using the [YAML](http://yaml.org/) or [JSON](http://en.wikipedia.org/wiki/JSON) format."
      ]
    },
    {
      "cell_type": "code",
      "execution_count": null,
      "metadata": {
        "id": "i8wIeFJgQCT4"
      },
      "outputs": [],
      "source": [
        "output = YamlOutput(filename = 'mfcc.sig.json', format=\"json\") # use \"format = 'json'\" for JSON output\n",
        "output(pool)\n",
        "\n",
        "# or as a one-liner:\n",
        "YamlOutput(filename = 'mfcc.sig', format=\"yaml\")(pool)"
      ]
    },
    {
      "cell_type": "markdown",
      "metadata": {
        "id": "mQwdtkhcQCT5"
      },
      "source": [
        "This can take a while as we actually write the MFCCs for all the frames, which\n",
        "can be quite heavy depending on the duration of your audio file."
      ]
    },
    {
      "cell_type": "markdown",
      "metadata": {
        "id": "UnPnMc4rQCT6"
      },
      "source": [
        "Now let's assume we do not want all the frames but only the mean and standard deviation of those frames. We can do this using the [PoolAggregator](http://essentia.upf.edu/documentation/reference/std_PoolAggregator.html) algorithm on our pool with frame value to get a new pool with the aggregated descriptors (check the documentation for this algorithm to get an idea of other statistics it can compute):"
      ]
    },
    {
      "cell_type": "code",
      "execution_count": null,
      "metadata": {
        "scrolled": true,
        "id": "kQ9Ml4YOQCT6"
      },
      "outputs": [],
      "source": [
        "# compute mean and variance of the frames\n",
        "aggrPool = PoolAggregator(defaultStats = [ 'mean', 'stdev' ])(pool)\n",
        "\n",
        "print('Original pool descriptor names:')\n",
        "print(pool.descriptorNames())\n",
        "print('')\n",
        "print('Aggregated pool descriptor names:')\n",
        "print(aggrPool.descriptorNames())\n",
        "print('')\n",
        "\n",
        "# and ouput those results in a file\n",
        "YamlOutput(filename = 'mfccaggr.sig')(aggrPool)"
      ]
    },
    {
      "cell_type": "markdown",
      "metadata": {
        "id": "2GxfZkRoQCT8"
      },
      "source": [
        "This is how the file with aggregated descriptors looks like:"
      ]
    },
    {
      "cell_type": "code",
      "execution_count": null,
      "metadata": {
        "scrolled": false,
        "id": "8JEo4e-KQCT9"
      },
      "outputs": [],
      "source": [
        "!cat mfccaggr.sig"
      ]
    },
    {
      "cell_type": "markdown",
      "metadata": {
        "id": "V65bCLjfQCT-"
      },
      "source": [
        "### Summary and more examples\n",
        "There is not much more to know for using Essentia in standard mode in Python, the basics are:\n",
        "\n",
        "* instantiate and configure algorithms\n",
        "* use them to compute some results\n",
        "* and that's pretty much it!\n",
        "\n",
        "You can find various Python examples in the ```src/examples/python``` folder [in the source code](https://github.com/MTG/essentia/tree/master/src/examples/python), for example:\n",
        "\n",
        "* computing spectral centroid ([example_spectral_spectralcentroid.py](https://github.com/MTG/essentia/blob/master/src/examples/python/example_spectral_spectralcentroid.py))\n",
        "* onset detection ([example_rhythm_onsetdetection.py](https://github.com/MTG/essentia/blob/master/src/examples/python/example_rhythm_onsetdetection.py))\n",
        "* predominant melody detection ([example_pitch_predominantmelody.py](https://github.com/MTG/essentia/blob/master/src/examples/python/example_pitch_predominantmelody.py) and [example_pitch_predominantmelody_by_steps.py](https://github.com/MTG/essentia/blob/master/src/examples/python/example_pitch_predominantmelody_by_steps.py))\n",
        "\n"
      ]
    },
    {
      "cell_type": "markdown",
      "metadata": {
        "id": "zJMbqjFmQCT_"
      },
      "source": [
        "## Using Essentia in streaming mode\n",
        "\n",
        "In this section, we will consider how to use Essentia in streaming mode.\n",
        "\n",
        "The main difference between standard and streaming is that the standard mode is imperative while the streaming mode is declarative. That means that in standard mode, you tell exactly the computer what to do, whereas in the streaming mode, you \"declare\"  what is needed to be done, and you let the computer do it itself. One big advantage of the streaming mode is that the memory consumption is greatly reduced, as you don't need to load the entire audio in memory. Also, streaming mode allows reducing the amount of code which may be very significant for larger projects. Let's have a look at it.\n",
        "\n"
      ]
    },
    {
      "cell_type": "markdown",
      "metadata": {
        "id": "toAuZ4XzQCUA"
      },
      "source": [
        "As usual, first import the essentia module:"
      ]
    },
    {
      "cell_type": "code",
      "execution_count": null,
      "metadata": {
        "id": "1Jpj6vzDQCUB"
      },
      "outputs": [],
      "source": [
        "import essentia\n",
        "from essentia.streaming import *"
      ]
    },
    {
      "cell_type": "markdown",
      "metadata": {
        "id": "C75KwepwQCUC"
      },
      "source": [
        "Instantiate our algorithms:"
      ]
    },
    {
      "cell_type": "code",
      "execution_count": null,
      "metadata": {
        "id": "rh3mpwNQQCUD"
      },
      "outputs": [],
      "source": [
        "loader = MonoLoader(filename = '../../../test/audio/recorded/dubstep.wav')\n",
        "frameCutter = FrameCutter(frameSize = 1024, hopSize = 512)\n",
        "w = Windowing(type = 'hann')\n",
        "spec = Spectrum()\n",
        "mfcc = MFCC()"
      ]
    },
    {
      "cell_type": "markdown",
      "metadata": {
        "id": "u6y_ZuNyQCUE"
      },
      "source": [
        "In streaming, instead of calling algorithms like functions, we need to connect their inputs and outputs. This is done using the `>>` operator.\n",
        "\n",
        "For example, the graph we want to connect looks like this:\n",
        "\n",
        "```\n",
        "----------      ------------      -----------      --------------      --------------\n",
        "MonoLoader      FrameCutter       Windowing        Spectrum            MFCC\n",
        "     audio ---> signal frame ---> frame frame ---> frame spectrum ---> spectrum bands ---> ???\n",
        "                                                                                mfcc  ---> ???\n",
        "----------      ------------      -----------      --------------      --------------\n",
        "```\n"
      ]
    },
    {
      "cell_type": "code",
      "execution_count": null,
      "metadata": {
        "id": "93UStECBQCUE"
      },
      "outputs": [],
      "source": [
        "loader.audio >> frameCutter.signal\n",
        "frameCutter.frame >> w.frame >> spec.frame\n",
        "spec.spectrum >> mfcc.spectrum"
      ]
    },
    {
      "cell_type": "markdown",
      "metadata": {
        "id": "cp5FZx3SQCUG"
      },
      "source": [
        "When building a network, all inputs need to be connected, no matter what, otherwise the network cannot be started and we get an error message:"
      ]
    },
    {
      "cell_type": "code",
      "execution_count": null,
      "metadata": {
        "id": "UrqyBFVsQCUH"
      },
      "outputs": [],
      "source": [
        "try:\n",
        "  essentia.run(loader)\n",
        "except Exception as expected:\n",
        "  print(expected)"
      ]
    },
    {
      "cell_type": "markdown",
      "metadata": {
        "id": "woschfolQCUJ"
      },
      "source": [
        "In our case, the outputs of the MFCC algorithm were not connected anywhere. Let's store *mfcc* values in the pool and ignore *bands* values.\n",
        "\n",
        "```\n",
        "----------      ------------      -----------      --------------      --------------\n",
        "MonoLoader      FrameCutter       Windowing        Spectrum            MFCC\n",
        "     audio ---> signal frame ---> frame frame ---> frame spectrum ---> spectrum bands ---> NOWHERE\n",
        "                                                                                mfcc  ---> Pool: lowlevel.mfcc\n",
        "----------      ------------      -----------      --------------      --------------\n",
        "```"
      ]
    },
    {
      "cell_type": "code",
      "execution_count": null,
      "metadata": {
        "id": "UJ8VjV2WQCUK"
      },
      "outputs": [],
      "source": [
        "pool = essentia.Pool()\n",
        "\n",
        "mfcc.bands >> None\n",
        "mfcc.mfcc >> (pool, 'lowlevel.mfcc')\n",
        "\n",
        "essentia.run(loader)\n",
        "\n",
        "print('Pool contains %d frames of MFCCs' % len(pool['lowlevel.mfcc']))"
      ]
    },
    {
      "cell_type": "markdown",
      "metadata": {
        "id": "c4NP6UwlQCUL"
      },
      "source": [
        "### Let's try writing directly to a text file instead of a pool and yaml files"
      ]
    },
    {
      "cell_type": "markdown",
      "metadata": {
        "id": "_HroaGauQCUM"
      },
      "source": [
        "We first need to disconnect the old connection to the pool to avoid putting the same data in there again."
      ]
    },
    {
      "cell_type": "code",
      "execution_count": null,
      "metadata": {
        "id": "7KqmXEVbQCUM"
      },
      "outputs": [],
      "source": [
        "mfcc.mfcc.disconnect((pool, 'lowlevel.mfcc'))"
      ]
    },
    {
      "cell_type": "markdown",
      "metadata": {
        "id": "yU7SAhziQCUN"
      },
      "source": [
        "We create a [FileOutput](https://essentia.upf.edu/reference/streaming_FileOutput.html) and connect it. It is a special connection that has no input because it can actually take any type of input (the other algorithms will complain if you try to connect an output to an input of a different type)."
      ]
    },
    {
      "cell_type": "code",
      "execution_count": null,
      "metadata": {
        "id": "3RhH4jP2QCUO"
      },
      "outputs": [],
      "source": [
        "fileout = FileOutput(filename = 'mfccframes.txt')\n",
        "mfcc.mfcc >> fileout"
      ]
    },
    {
      "cell_type": "markdown",
      "metadata": {
        "id": "djCmr9ZRQCUP"
      },
      "source": [
        "Reset the network otherwise the loader in particular will not do anything useful, and rerun the network"
      ]
    },
    {
      "cell_type": "code",
      "execution_count": null,
      "metadata": {
        "id": "WM6xVOmSQCUQ"
      },
      "outputs": [],
      "source": [
        "essentia.reset(loader)\n",
        "essentia.run(loader)"
      ]
    },
    {
      "cell_type": "markdown",
      "metadata": {
        "id": "RoxlIelyQCUR"
      },
      "source": [
        "This is the resulting file (the first 10 lines correspond to the first 10 frames):"
      ]
    },
    {
      "cell_type": "code",
      "execution_count": null,
      "metadata": {
        "id": "3FJlVNhvQCUR"
      },
      "outputs": [],
      "source": [
        "!head mfccframes.txt -n 10"
      ]
    },
    {
      "cell_type": "markdown",
      "metadata": {
        "id": "T00kCBPkQCUS"
      },
      "source": [
        "### Examples\n",
        "\n",
        "* extracting key by steps ([example_key_by_steps_streaming.py](https://github.com/MTG/essentia/blob/master/src/examples/python/example_tonal_key_by_steps_streaming.py))"
      ]
    }
  ],
  "metadata": {
    "kernelspec": {
      "display_name": "Python 3",
      "language": "python",
      "name": "python3"
    },
    "language_info": {
      "codemirror_mode": {
        "name": "ipython",
        "version": 3
      },
      "file_extension": ".py",
      "mimetype": "text/x-python",
      "name": "python",
      "nbconvert_exporter": "python",
      "pygments_lexer": "ipython3",
      "version": "3.5.2"
    },
    "colab": {
      "provenance": [],
      "private_outputs": true
    },
    "gpuClass": "standard"
  },
  "nbformat": 4,
  "nbformat_minor": 0
}